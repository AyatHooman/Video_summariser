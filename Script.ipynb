{
 "cells": [
  {
   "cell_type": "code",
   "execution_count": 5,
   "metadata": {},
   "outputs": [],
   "source": [
    "import whisper\n",
    "from pathlib import Path\n",
    "def format_time(seconds):\n",
    "    \"\"\"Convert seconds to SRT time format (HH:MM:SS,mmm)\"\"\"\n",
    "    hrs = int(seconds // 3600)\n",
    "    mins = int((seconds % 3600) // 60)\n",
    "    secs = int(seconds % 60)\n",
    "    millis = int((seconds - int(seconds)) * 1000)\n",
    "    return f\"{hrs:02}:{mins:02}:{secs:02},{millis:03}\"\n",
    "\n",
    "def transcribe_video(video_path: Path, model_size=\"base\"):\n",
    "\n",
    "    srt_output=f\"outputs/{video_path.stem}_{model_size}.srt\"\n",
    "    # Load the Whisper model (you can choose tiny, base, small, medium, or large)\n",
    "    model = whisper.load_model(model_size)\n",
    "    \n",
    "    # Transcribe the video file\n",
    "    result = model.transcribe(video_path.as_posix())\n",
    "    \n",
    "    # Extract segments (each segment has start, end, and text)\n",
    "    segments = result.get(\"segments\", [])\n",
    "    \n",
    "    # Write out an SRT file with timings\n",
    "    with open(srt_output, \"w\", encoding=\"utf-8\") as srt_file:\n",
    "        for i, segment in enumerate(segments):\n",
    "            start = segment[\"start\"]\n",
    "            end = segment[\"end\"]\n",
    "            text = segment[\"text\"].strip()\n",
    "            srt_file.write(f\"{i + 1}\\n\")\n",
    "            srt_file.write(f\"{format_time(start)} --> {format_time(end)}\\n\")\n",
    "            srt_file.write(f\"{text}\\n\\n\")\n",
    "    print(f\"Subtitle file saved to: {srt_output}\")\n",
    "\n"
   ]
  },
  {
   "cell_type": "code",
   "execution_count": 6,
   "metadata": {},
   "outputs": [
    {
     "name": "stderr",
     "output_type": "stream",
     "text": [
      "100%|█████████████████████████████████████| 2.88G/2.88G [01:33<00:00, 33.1MiB/s]\n"
     ]
    },
    {
     "ename": "",
     "evalue": "",
     "output_type": "error",
     "traceback": [
      "\u001b[1;31mThe Kernel crashed while executing code in the current cell or a previous cell. \n",
      "\u001b[1;31mPlease review the code in the cell(s) to identify a possible cause of the failure. \n",
      "\u001b[1;31mClick <a href='https://aka.ms/vscodeJupyterKernelCrash'>here</a> for more info. \n",
      "\u001b[1;31mView Jupyter <a href='command:jupyter.viewOutput'>log</a> for further details."
     ]
    }
   ],
   "source": [
    "transcribe_video(Path(r\"E:\\Coding\\sample_video_data\\Record_2025_02_15_09_14_05_937.mp4\"), model_size='large')"
   ]
  },
  {
   "cell_type": "code",
   "execution_count": null,
   "metadata": {},
   "outputs": [],
   "source": []
  }
 ],
 "metadata": {
  "kernelspec": {
   "display_name": "base",
   "language": "python",
   "name": "python3"
  },
  "language_info": {
   "codemirror_mode": {
    "name": "ipython",
    "version": 3
   },
   "file_extension": ".py",
   "mimetype": "text/x-python",
   "name": "python",
   "nbconvert_exporter": "python",
   "pygments_lexer": "ipython3",
   "version": "3.12.3"
  }
 },
 "nbformat": 4,
 "nbformat_minor": 2
}
